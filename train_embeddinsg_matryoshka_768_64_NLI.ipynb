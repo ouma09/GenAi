{
  "nbformat": 4,
  "nbformat_minor": 0,
  "metadata": {
    "colab": {
      "provenance": [],
      "toc_visible": true,
      "gpuType": "T4",
      "include_colab_link": true
    },
    "kernelspec": {
      "name": "python3",
      "display_name": "Python 3"
    },
    "language_info": {
      "name": "python"
    },
    "accelerator": "GPU",
    "widgets": {
      "application/vnd.jupyter.widget-state+json": {
        "0cafae5519e74c74aa01f5744ff0aa06": {
          "model_module": "@jupyter-widgets/controls",
          "model_name": "HBoxModel",
          "model_module_version": "1.5.0",
          "state": {
            "_dom_classes": [],
            "_model_module": "@jupyter-widgets/controls",
            "_model_module_version": "1.5.0",
            "_model_name": "HBoxModel",
            "_view_count": null,
            "_view_module": "@jupyter-widgets/controls",
            "_view_module_version": "1.5.0",
            "_view_name": "HBoxView",
            "box_style": "",
            "children": [
              "IPY_MODEL_728463bb7d72414884248e66f03ceaf9",
              "IPY_MODEL_b14a64b1d2304a83a9ef53cc097ce214",
              "IPY_MODEL_4a902f67e9e147c3b5c4c70ed7318332"
            ],
            "layout": "IPY_MODEL_5bf5a41a6f2b4297a502728206632225"
          }
        },
        "728463bb7d72414884248e66f03ceaf9": {
          "model_module": "@jupyter-widgets/controls",
          "model_name": "HTMLModel",
          "model_module_version": "1.5.0",
          "state": {
            "_dom_classes": [],
            "_model_module": "@jupyter-widgets/controls",
            "_model_module_version": "1.5.0",
            "_model_name": "HTMLModel",
            "_view_count": null,
            "_view_module": "@jupyter-widgets/controls",
            "_view_module_version": "1.5.0",
            "_view_name": "HTMLView",
            "description": "",
            "description_tooltip": null,
            "layout": "IPY_MODEL_fd74b958338549d89daa151de4e475b3",
            "placeholder": "​",
            "style": "IPY_MODEL_ae65833476e04e1cbf0297879097e2d0",
            "value": "Computing widget examples: 100%"
          }
        },
        "b14a64b1d2304a83a9ef53cc097ce214": {
          "model_module": "@jupyter-widgets/controls",
          "model_name": "FloatProgressModel",
          "model_module_version": "1.5.0",
          "state": {
            "_dom_classes": [],
            "_model_module": "@jupyter-widgets/controls",
            "_model_module_version": "1.5.0",
            "_model_name": "FloatProgressModel",
            "_view_count": null,
            "_view_module": "@jupyter-widgets/controls",
            "_view_module_version": "1.5.0",
            "_view_name": "ProgressView",
            "bar_style": "",
            "description": "",
            "description_tooltip": null,
            "layout": "IPY_MODEL_c74ca19367ea4abca70390a285abdf33",
            "max": 5,
            "min": 0,
            "orientation": "horizontal",
            "style": "IPY_MODEL_191c420aba5d49748be46162ccd86682",
            "value": 5
          }
        },
        "4a902f67e9e147c3b5c4c70ed7318332": {
          "model_module": "@jupyter-widgets/controls",
          "model_name": "HTMLModel",
          "model_module_version": "1.5.0",
          "state": {
            "_dom_classes": [],
            "_model_module": "@jupyter-widgets/controls",
            "_model_module_version": "1.5.0",
            "_model_name": "HTMLModel",
            "_view_count": null,
            "_view_module": "@jupyter-widgets/controls",
            "_view_module_version": "1.5.0",
            "_view_name": "HTMLView",
            "description": "",
            "description_tooltip": null,
            "layout": "IPY_MODEL_e6a5fde63fde4627b9fd49ff5dc6818b",
            "placeholder": "​",
            "style": "IPY_MODEL_f85b80f91f9943318bf1681e5dcb52c3",
            "value": " 5/5 [00:01&lt;00:00,  3.80example/s]"
          }
        },
        "5bf5a41a6f2b4297a502728206632225": {
          "model_module": "@jupyter-widgets/base",
          "model_name": "LayoutModel",
          "model_module_version": "1.2.0",
          "state": {
            "_model_module": "@jupyter-widgets/base",
            "_model_module_version": "1.2.0",
            "_model_name": "LayoutModel",
            "_view_count": null,
            "_view_module": "@jupyter-widgets/base",
            "_view_module_version": "1.2.0",
            "_view_name": "LayoutView",
            "align_content": null,
            "align_items": null,
            "align_self": null,
            "border": null,
            "bottom": null,
            "display": null,
            "flex": null,
            "flex_flow": null,
            "grid_area": null,
            "grid_auto_columns": null,
            "grid_auto_flow": null,
            "grid_auto_rows": null,
            "grid_column": null,
            "grid_gap": null,
            "grid_row": null,
            "grid_template_areas": null,
            "grid_template_columns": null,
            "grid_template_rows": null,
            "height": null,
            "justify_content": null,
            "justify_items": null,
            "left": null,
            "margin": null,
            "max_height": null,
            "max_width": null,
            "min_height": null,
            "min_width": null,
            "object_fit": null,
            "object_position": null,
            "order": null,
            "overflow": null,
            "overflow_x": null,
            "overflow_y": null,
            "padding": null,
            "right": null,
            "top": null,
            "visibility": "hidden",
            "width": null
          }
        },
        "fd74b958338549d89daa151de4e475b3": {
          "model_module": "@jupyter-widgets/base",
          "model_name": "LayoutModel",
          "model_module_version": "1.2.0",
          "state": {
            "_model_module": "@jupyter-widgets/base",
            "_model_module_version": "1.2.0",
            "_model_name": "LayoutModel",
            "_view_count": null,
            "_view_module": "@jupyter-widgets/base",
            "_view_module_version": "1.2.0",
            "_view_name": "LayoutView",
            "align_content": null,
            "align_items": null,
            "align_self": null,
            "border": null,
            "bottom": null,
            "display": null,
            "flex": null,
            "flex_flow": null,
            "grid_area": null,
            "grid_auto_columns": null,
            "grid_auto_flow": null,
            "grid_auto_rows": null,
            "grid_column": null,
            "grid_gap": null,
            "grid_row": null,
            "grid_template_areas": null,
            "grid_template_columns": null,
            "grid_template_rows": null,
            "height": null,
            "justify_content": null,
            "justify_items": null,
            "left": null,
            "margin": null,
            "max_height": null,
            "max_width": null,
            "min_height": null,
            "min_width": null,
            "object_fit": null,
            "object_position": null,
            "order": null,
            "overflow": null,
            "overflow_x": null,
            "overflow_y": null,
            "padding": null,
            "right": null,
            "top": null,
            "visibility": null,
            "width": null
          }
        },
        "ae65833476e04e1cbf0297879097e2d0": {
          "model_module": "@jupyter-widgets/controls",
          "model_name": "DescriptionStyleModel",
          "model_module_version": "1.5.0",
          "state": {
            "_model_module": "@jupyter-widgets/controls",
            "_model_module_version": "1.5.0",
            "_model_name": "DescriptionStyleModel",
            "_view_count": null,
            "_view_module": "@jupyter-widgets/base",
            "_view_module_version": "1.2.0",
            "_view_name": "StyleView",
            "description_width": ""
          }
        },
        "c74ca19367ea4abca70390a285abdf33": {
          "model_module": "@jupyter-widgets/base",
          "model_name": "LayoutModel",
          "model_module_version": "1.2.0",
          "state": {
            "_model_module": "@jupyter-widgets/base",
            "_model_module_version": "1.2.0",
            "_model_name": "LayoutModel",
            "_view_count": null,
            "_view_module": "@jupyter-widgets/base",
            "_view_module_version": "1.2.0",
            "_view_name": "LayoutView",
            "align_content": null,
            "align_items": null,
            "align_self": null,
            "border": null,
            "bottom": null,
            "display": null,
            "flex": null,
            "flex_flow": null,
            "grid_area": null,
            "grid_auto_columns": null,
            "grid_auto_flow": null,
            "grid_auto_rows": null,
            "grid_column": null,
            "grid_gap": null,
            "grid_row": null,
            "grid_template_areas": null,
            "grid_template_columns": null,
            "grid_template_rows": null,
            "height": null,
            "justify_content": null,
            "justify_items": null,
            "left": null,
            "margin": null,
            "max_height": null,
            "max_width": null,
            "min_height": null,
            "min_width": null,
            "object_fit": null,
            "object_position": null,
            "order": null,
            "overflow": null,
            "overflow_x": null,
            "overflow_y": null,
            "padding": null,
            "right": null,
            "top": null,
            "visibility": null,
            "width": null
          }
        },
        "191c420aba5d49748be46162ccd86682": {
          "model_module": "@jupyter-widgets/controls",
          "model_name": "ProgressStyleModel",
          "model_module_version": "1.5.0",
          "state": {
            "_model_module": "@jupyter-widgets/controls",
            "_model_module_version": "1.5.0",
            "_model_name": "ProgressStyleModel",
            "_view_count": null,
            "_view_module": "@jupyter-widgets/base",
            "_view_module_version": "1.2.0",
            "_view_name": "StyleView",
            "bar_color": null,
            "description_width": ""
          }
        },
        "e6a5fde63fde4627b9fd49ff5dc6818b": {
          "model_module": "@jupyter-widgets/base",
          "model_name": "LayoutModel",
          "model_module_version": "1.2.0",
          "state": {
            "_model_module": "@jupyter-widgets/base",
            "_model_module_version": "1.2.0",
            "_model_name": "LayoutModel",
            "_view_count": null,
            "_view_module": "@jupyter-widgets/base",
            "_view_module_version": "1.2.0",
            "_view_name": "LayoutView",
            "align_content": null,
            "align_items": null,
            "align_self": null,
            "border": null,
            "bottom": null,
            "display": null,
            "flex": null,
            "flex_flow": null,
            "grid_area": null,
            "grid_auto_columns": null,
            "grid_auto_flow": null,
            "grid_auto_rows": null,
            "grid_column": null,
            "grid_gap": null,
            "grid_row": null,
            "grid_template_areas": null,
            "grid_template_columns": null,
            "grid_template_rows": null,
            "height": null,
            "justify_content": null,
            "justify_items": null,
            "left": null,
            "margin": null,
            "max_height": null,
            "max_width": null,
            "min_height": null,
            "min_width": null,
            "object_fit": null,
            "object_position": null,
            "order": null,
            "overflow": null,
            "overflow_x": null,
            "overflow_y": null,
            "padding": null,
            "right": null,
            "top": null,
            "visibility": null,
            "width": null
          }
        },
        "f85b80f91f9943318bf1681e5dcb52c3": {
          "model_module": "@jupyter-widgets/controls",
          "model_name": "DescriptionStyleModel",
          "model_module_version": "1.5.0",
          "state": {
            "_model_module": "@jupyter-widgets/controls",
            "_model_module_version": "1.5.0",
            "_model_name": "DescriptionStyleModel",
            "_view_count": null,
            "_view_module": "@jupyter-widgets/base",
            "_view_module_version": "1.2.0",
            "_view_name": "StyleView",
            "description_width": ""
          }
        },
        "3caddce3298a48a5a7318a35f73d09a9": {
          "model_module": "@jupyter-widgets/controls",
          "model_name": "HBoxModel",
          "model_module_version": "1.5.0",
          "state": {
            "_dom_classes": [],
            "_model_module": "@jupyter-widgets/controls",
            "_model_module_version": "1.5.0",
            "_model_name": "HBoxModel",
            "_view_count": null,
            "_view_module": "@jupyter-widgets/controls",
            "_view_module_version": "1.5.0",
            "_view_name": "HBoxView",
            "box_style": "",
            "children": [
              "IPY_MODEL_0f25eeca64ba47259b32de1d03d6324e",
              "IPY_MODEL_ef1beb9bb7a94be9adb5c7f7ce5f2bd1",
              "IPY_MODEL_6732cf389efe43ed8570cbac94caa47a"
            ],
            "layout": "IPY_MODEL_883e9287c9f14392935412d839db98e6"
          }
        },
        "0f25eeca64ba47259b32de1d03d6324e": {
          "model_module": "@jupyter-widgets/controls",
          "model_name": "HTMLModel",
          "model_module_version": "1.5.0",
          "state": {
            "_dom_classes": [],
            "_model_module": "@jupyter-widgets/controls",
            "_model_module_version": "1.5.0",
            "_model_name": "HTMLModel",
            "_view_count": null,
            "_view_module": "@jupyter-widgets/controls",
            "_view_module_version": "1.5.0",
            "_view_name": "HTMLView",
            "description": "",
            "description_tooltip": null,
            "layout": "IPY_MODEL_a30af5d821c04c3f8635dc9bf3e68019",
            "placeholder": "​",
            "style": "IPY_MODEL_162a20f7199443cf836ca64916c92763",
            "value": "Computing widget examples: 100%"
          }
        },
        "ef1beb9bb7a94be9adb5c7f7ce5f2bd1": {
          "model_module": "@jupyter-widgets/controls",
          "model_name": "FloatProgressModel",
          "model_module_version": "1.5.0",
          "state": {
            "_dom_classes": [],
            "_model_module": "@jupyter-widgets/controls",
            "_model_module_version": "1.5.0",
            "_model_name": "FloatProgressModel",
            "_view_count": null,
            "_view_module": "@jupyter-widgets/controls",
            "_view_module_version": "1.5.0",
            "_view_name": "ProgressView",
            "bar_style": "",
            "description": "",
            "description_tooltip": null,
            "layout": "IPY_MODEL_4c0ac766f88b4f85b8ef19fa279e7165",
            "max": 5,
            "min": 0,
            "orientation": "horizontal",
            "style": "IPY_MODEL_12f0eb4a3e7243bc8f858e44f947a548",
            "value": 5
          }
        },
        "6732cf389efe43ed8570cbac94caa47a": {
          "model_module": "@jupyter-widgets/controls",
          "model_name": "HTMLModel",
          "model_module_version": "1.5.0",
          "state": {
            "_dom_classes": [],
            "_model_module": "@jupyter-widgets/controls",
            "_model_module_version": "1.5.0",
            "_model_name": "HTMLModel",
            "_view_count": null,
            "_view_module": "@jupyter-widgets/controls",
            "_view_module_version": "1.5.0",
            "_view_name": "HTMLView",
            "description": "",
            "description_tooltip": null,
            "layout": "IPY_MODEL_cf07ad8c88394b5ca1931876230ac9cc",
            "placeholder": "​",
            "style": "IPY_MODEL_d9af64cfc0d440cd99807cad197751e0",
            "value": " 5/5 [00:01&lt;00:00,  3.97example/s]"
          }
        },
        "883e9287c9f14392935412d839db98e6": {
          "model_module": "@jupyter-widgets/base",
          "model_name": "LayoutModel",
          "model_module_version": "1.2.0",
          "state": {
            "_model_module": "@jupyter-widgets/base",
            "_model_module_version": "1.2.0",
            "_model_name": "LayoutModel",
            "_view_count": null,
            "_view_module": "@jupyter-widgets/base",
            "_view_module_version": "1.2.0",
            "_view_name": "LayoutView",
            "align_content": null,
            "align_items": null,
            "align_self": null,
            "border": null,
            "bottom": null,
            "display": null,
            "flex": null,
            "flex_flow": null,
            "grid_area": null,
            "grid_auto_columns": null,
            "grid_auto_flow": null,
            "grid_auto_rows": null,
            "grid_column": null,
            "grid_gap": null,
            "grid_row": null,
            "grid_template_areas": null,
            "grid_template_columns": null,
            "grid_template_rows": null,
            "height": null,
            "justify_content": null,
            "justify_items": null,
            "left": null,
            "margin": null,
            "max_height": null,
            "max_width": null,
            "min_height": null,
            "min_width": null,
            "object_fit": null,
            "object_position": null,
            "order": null,
            "overflow": null,
            "overflow_x": null,
            "overflow_y": null,
            "padding": null,
            "right": null,
            "top": null,
            "visibility": "hidden",
            "width": null
          }
        },
        "a30af5d821c04c3f8635dc9bf3e68019": {
          "model_module": "@jupyter-widgets/base",
          "model_name": "LayoutModel",
          "model_module_version": "1.2.0",
          "state": {
            "_model_module": "@jupyter-widgets/base",
            "_model_module_version": "1.2.0",
            "_model_name": "LayoutModel",
            "_view_count": null,
            "_view_module": "@jupyter-widgets/base",
            "_view_module_version": "1.2.0",
            "_view_name": "LayoutView",
            "align_content": null,
            "align_items": null,
            "align_self": null,
            "border": null,
            "bottom": null,
            "display": null,
            "flex": null,
            "flex_flow": null,
            "grid_area": null,
            "grid_auto_columns": null,
            "grid_auto_flow": null,
            "grid_auto_rows": null,
            "grid_column": null,
            "grid_gap": null,
            "grid_row": null,
            "grid_template_areas": null,
            "grid_template_columns": null,
            "grid_template_rows": null,
            "height": null,
            "justify_content": null,
            "justify_items": null,
            "left": null,
            "margin": null,
            "max_height": null,
            "max_width": null,
            "min_height": null,
            "min_width": null,
            "object_fit": null,
            "object_position": null,
            "order": null,
            "overflow": null,
            "overflow_x": null,
            "overflow_y": null,
            "padding": null,
            "right": null,
            "top": null,
            "visibility": null,
            "width": null
          }
        },
        "162a20f7199443cf836ca64916c92763": {
          "model_module": "@jupyter-widgets/controls",
          "model_name": "DescriptionStyleModel",
          "model_module_version": "1.5.0",
          "state": {
            "_model_module": "@jupyter-widgets/controls",
            "_model_module_version": "1.5.0",
            "_model_name": "DescriptionStyleModel",
            "_view_count": null,
            "_view_module": "@jupyter-widgets/base",
            "_view_module_version": "1.2.0",
            "_view_name": "StyleView",
            "description_width": ""
          }
        },
        "4c0ac766f88b4f85b8ef19fa279e7165": {
          "model_module": "@jupyter-widgets/base",
          "model_name": "LayoutModel",
          "model_module_version": "1.2.0",
          "state": {
            "_model_module": "@jupyter-widgets/base",
            "_model_module_version": "1.2.0",
            "_model_name": "LayoutModel",
            "_view_count": null,
            "_view_module": "@jupyter-widgets/base",
            "_view_module_version": "1.2.0",
            "_view_name": "LayoutView",
            "align_content": null,
            "align_items": null,
            "align_self": null,
            "border": null,
            "bottom": null,
            "display": null,
            "flex": null,
            "flex_flow": null,
            "grid_area": null,
            "grid_auto_columns": null,
            "grid_auto_flow": null,
            "grid_auto_rows": null,
            "grid_column": null,
            "grid_gap": null,
            "grid_row": null,
            "grid_template_areas": null,
            "grid_template_columns": null,
            "grid_template_rows": null,
            "height": null,
            "justify_content": null,
            "justify_items": null,
            "left": null,
            "margin": null,
            "max_height": null,
            "max_width": null,
            "min_height": null,
            "min_width": null,
            "object_fit": null,
            "object_position": null,
            "order": null,
            "overflow": null,
            "overflow_x": null,
            "overflow_y": null,
            "padding": null,
            "right": null,
            "top": null,
            "visibility": null,
            "width": null
          }
        },
        "12f0eb4a3e7243bc8f858e44f947a548": {
          "model_module": "@jupyter-widgets/controls",
          "model_name": "ProgressStyleModel",
          "model_module_version": "1.5.0",
          "state": {
            "_model_module": "@jupyter-widgets/controls",
            "_model_module_version": "1.5.0",
            "_model_name": "ProgressStyleModel",
            "_view_count": null,
            "_view_module": "@jupyter-widgets/base",
            "_view_module_version": "1.2.0",
            "_view_name": "StyleView",
            "bar_color": null,
            "description_width": ""
          }
        },
        "cf07ad8c88394b5ca1931876230ac9cc": {
          "model_module": "@jupyter-widgets/base",
          "model_name": "LayoutModel",
          "model_module_version": "1.2.0",
          "state": {
            "_model_module": "@jupyter-widgets/base",
            "_model_module_version": "1.2.0",
            "_model_name": "LayoutModel",
            "_view_count": null,
            "_view_module": "@jupyter-widgets/base",
            "_view_module_version": "1.2.0",
            "_view_name": "LayoutView",
            "align_content": null,
            "align_items": null,
            "align_self": null,
            "border": null,
            "bottom": null,
            "display": null,
            "flex": null,
            "flex_flow": null,
            "grid_area": null,
            "grid_auto_columns": null,
            "grid_auto_flow": null,
            "grid_auto_rows": null,
            "grid_column": null,
            "grid_gap": null,
            "grid_row": null,
            "grid_template_areas": null,
            "grid_template_columns": null,
            "grid_template_rows": null,
            "height": null,
            "justify_content": null,
            "justify_items": null,
            "left": null,
            "margin": null,
            "max_height": null,
            "max_width": null,
            "min_height": null,
            "min_width": null,
            "object_fit": null,
            "object_position": null,
            "order": null,
            "overflow": null,
            "overflow_x": null,
            "overflow_y": null,
            "padding": null,
            "right": null,
            "top": null,
            "visibility": null,
            "width": null
          }
        },
        "d9af64cfc0d440cd99807cad197751e0": {
          "model_module": "@jupyter-widgets/controls",
          "model_name": "DescriptionStyleModel",
          "model_module_version": "1.5.0",
          "state": {
            "_model_module": "@jupyter-widgets/controls",
            "_model_module_version": "1.5.0",
            "_model_name": "DescriptionStyleModel",
            "_view_count": null,
            "_view_module": "@jupyter-widgets/base",
            "_view_module_version": "1.2.0",
            "_view_name": "StyleView",
            "description_width": ""
          }
        },
        "3dccd93f63604cb4be42222e1226641c": {
          "model_module": "@jupyter-widgets/controls",
          "model_name": "HBoxModel",
          "model_module_version": "1.5.0",
          "state": {
            "_dom_classes": [],
            "_model_module": "@jupyter-widgets/controls",
            "_model_module_version": "1.5.0",
            "_model_name": "HBoxModel",
            "_view_count": null,
            "_view_module": "@jupyter-widgets/controls",
            "_view_module_version": "1.5.0",
            "_view_name": "HBoxView",
            "box_style": "",
            "children": [
              "IPY_MODEL_0857cd6048d741f5924fb2c41d5fb1e4",
              "IPY_MODEL_55df9fde1a044ee8823f50333d10d8f8",
              "IPY_MODEL_2b67d1fa92b3462f985911f2b17f7801"
            ],
            "layout": "IPY_MODEL_85bc4e9922364a1eb3b9e0e995af7669"
          }
        },
        "0857cd6048d741f5924fb2c41d5fb1e4": {
          "model_module": "@jupyter-widgets/controls",
          "model_name": "HTMLModel",
          "model_module_version": "1.5.0",
          "state": {
            "_dom_classes": [],
            "_model_module": "@jupyter-widgets/controls",
            "_model_module_version": "1.5.0",
            "_model_name": "HTMLModel",
            "_view_count": null,
            "_view_module": "@jupyter-widgets/controls",
            "_view_module_version": "1.5.0",
            "_view_name": "HTMLView",
            "description": "",
            "description_tooltip": null,
            "layout": "IPY_MODEL_a541bd2aff3a42c09d70a63bdebd3a58",
            "placeholder": "​",
            "style": "IPY_MODEL_1a0f99d9b14c405c9f30f6b8ec01ded5",
            "value": "Computing widget examples: 100%"
          }
        },
        "55df9fde1a044ee8823f50333d10d8f8": {
          "model_module": "@jupyter-widgets/controls",
          "model_name": "FloatProgressModel",
          "model_module_version": "1.5.0",
          "state": {
            "_dom_classes": [],
            "_model_module": "@jupyter-widgets/controls",
            "_model_module_version": "1.5.0",
            "_model_name": "FloatProgressModel",
            "_view_count": null,
            "_view_module": "@jupyter-widgets/controls",
            "_view_module_version": "1.5.0",
            "_view_name": "ProgressView",
            "bar_style": "",
            "description": "",
            "description_tooltip": null,
            "layout": "IPY_MODEL_4b9a02f28cb0448486bb4fb1bd31552d",
            "max": 5,
            "min": 0,
            "orientation": "horizontal",
            "style": "IPY_MODEL_dd3569779cf54ec683cd93ab99fb4ea5",
            "value": 5
          }
        },
        "2b67d1fa92b3462f985911f2b17f7801": {
          "model_module": "@jupyter-widgets/controls",
          "model_name": "HTMLModel",
          "model_module_version": "1.5.0",
          "state": {
            "_dom_classes": [],
            "_model_module": "@jupyter-widgets/controls",
            "_model_module_version": "1.5.0",
            "_model_name": "HTMLModel",
            "_view_count": null,
            "_view_module": "@jupyter-widgets/controls",
            "_view_module_version": "1.5.0",
            "_view_name": "HTMLView",
            "description": "",
            "description_tooltip": null,
            "layout": "IPY_MODEL_a7b90c33c9c340a7be0a750e950f6549",
            "placeholder": "​",
            "style": "IPY_MODEL_feeba7b3126641e497b9ddc68357130b",
            "value": " 5/5 [00:01&lt;00:00,  4.08example/s]"
          }
        },
        "85bc4e9922364a1eb3b9e0e995af7669": {
          "model_module": "@jupyter-widgets/base",
          "model_name": "LayoutModel",
          "model_module_version": "1.2.0",
          "state": {
            "_model_module": "@jupyter-widgets/base",
            "_model_module_version": "1.2.0",
            "_model_name": "LayoutModel",
            "_view_count": null,
            "_view_module": "@jupyter-widgets/base",
            "_view_module_version": "1.2.0",
            "_view_name": "LayoutView",
            "align_content": null,
            "align_items": null,
            "align_self": null,
            "border": null,
            "bottom": null,
            "display": null,
            "flex": null,
            "flex_flow": null,
            "grid_area": null,
            "grid_auto_columns": null,
            "grid_auto_flow": null,
            "grid_auto_rows": null,
            "grid_column": null,
            "grid_gap": null,
            "grid_row": null,
            "grid_template_areas": null,
            "grid_template_columns": null,
            "grid_template_rows": null,
            "height": null,
            "justify_content": null,
            "justify_items": null,
            "left": null,
            "margin": null,
            "max_height": null,
            "max_width": null,
            "min_height": null,
            "min_width": null,
            "object_fit": null,
            "object_position": null,
            "order": null,
            "overflow": null,
            "overflow_x": null,
            "overflow_y": null,
            "padding": null,
            "right": null,
            "top": null,
            "visibility": "hidden",
            "width": null
          }
        },
        "a541bd2aff3a42c09d70a63bdebd3a58": {
          "model_module": "@jupyter-widgets/base",
          "model_name": "LayoutModel",
          "model_module_version": "1.2.0",
          "state": {
            "_model_module": "@jupyter-widgets/base",
            "_model_module_version": "1.2.0",
            "_model_name": "LayoutModel",
            "_view_count": null,
            "_view_module": "@jupyter-widgets/base",
            "_view_module_version": "1.2.0",
            "_view_name": "LayoutView",
            "align_content": null,
            "align_items": null,
            "align_self": null,
            "border": null,
            "bottom": null,
            "display": null,
            "flex": null,
            "flex_flow": null,
            "grid_area": null,
            "grid_auto_columns": null,
            "grid_auto_flow": null,
            "grid_auto_rows": null,
            "grid_column": null,
            "grid_gap": null,
            "grid_row": null,
            "grid_template_areas": null,
            "grid_template_columns": null,
            "grid_template_rows": null,
            "height": null,
            "justify_content": null,
            "justify_items": null,
            "left": null,
            "margin": null,
            "max_height": null,
            "max_width": null,
            "min_height": null,
            "min_width": null,
            "object_fit": null,
            "object_position": null,
            "order": null,
            "overflow": null,
            "overflow_x": null,
            "overflow_y": null,
            "padding": null,
            "right": null,
            "top": null,
            "visibility": null,
            "width": null
          }
        },
        "1a0f99d9b14c405c9f30f6b8ec01ded5": {
          "model_module": "@jupyter-widgets/controls",
          "model_name": "DescriptionStyleModel",
          "model_module_version": "1.5.0",
          "state": {
            "_model_module": "@jupyter-widgets/controls",
            "_model_module_version": "1.5.0",
            "_model_name": "DescriptionStyleModel",
            "_view_count": null,
            "_view_module": "@jupyter-widgets/base",
            "_view_module_version": "1.2.0",
            "_view_name": "StyleView",
            "description_width": ""
          }
        },
        "4b9a02f28cb0448486bb4fb1bd31552d": {
          "model_module": "@jupyter-widgets/base",
          "model_name": "LayoutModel",
          "model_module_version": "1.2.0",
          "state": {
            "_model_module": "@jupyter-widgets/base",
            "_model_module_version": "1.2.0",
            "_model_name": "LayoutModel",
            "_view_count": null,
            "_view_module": "@jupyter-widgets/base",
            "_view_module_version": "1.2.0",
            "_view_name": "LayoutView",
            "align_content": null,
            "align_items": null,
            "align_self": null,
            "border": null,
            "bottom": null,
            "display": null,
            "flex": null,
            "flex_flow": null,
            "grid_area": null,
            "grid_auto_columns": null,
            "grid_auto_flow": null,
            "grid_auto_rows": null,
            "grid_column": null,
            "grid_gap": null,
            "grid_row": null,
            "grid_template_areas": null,
            "grid_template_columns": null,
            "grid_template_rows": null,
            "height": null,
            "justify_content": null,
            "justify_items": null,
            "left": null,
            "margin": null,
            "max_height": null,
            "max_width": null,
            "min_height": null,
            "min_width": null,
            "object_fit": null,
            "object_position": null,
            "order": null,
            "overflow": null,
            "overflow_x": null,
            "overflow_y": null,
            "padding": null,
            "right": null,
            "top": null,
            "visibility": null,
            "width": null
          }
        },
        "dd3569779cf54ec683cd93ab99fb4ea5": {
          "model_module": "@jupyter-widgets/controls",
          "model_name": "ProgressStyleModel",
          "model_module_version": "1.5.0",
          "state": {
            "_model_module": "@jupyter-widgets/controls",
            "_model_module_version": "1.5.0",
            "_model_name": "ProgressStyleModel",
            "_view_count": null,
            "_view_module": "@jupyter-widgets/base",
            "_view_module_version": "1.2.0",
            "_view_name": "StyleView",
            "bar_color": null,
            "description_width": ""
          }
        },
        "a7b90c33c9c340a7be0a750e950f6549": {
          "model_module": "@jupyter-widgets/base",
          "model_name": "LayoutModel",
          "model_module_version": "1.2.0",
          "state": {
            "_model_module": "@jupyter-widgets/base",
            "_model_module_version": "1.2.0",
            "_model_name": "LayoutModel",
            "_view_count": null,
            "_view_module": "@jupyter-widgets/base",
            "_view_module_version": "1.2.0",
            "_view_name": "LayoutView",
            "align_content": null,
            "align_items": null,
            "align_self": null,
            "border": null,
            "bottom": null,
            "display": null,
            "flex": null,
            "flex_flow": null,
            "grid_area": null,
            "grid_auto_columns": null,
            "grid_auto_flow": null,
            "grid_auto_rows": null,
            "grid_column": null,
            "grid_gap": null,
            "grid_row": null,
            "grid_template_areas": null,
            "grid_template_columns": null,
            "grid_template_rows": null,
            "height": null,
            "justify_content": null,
            "justify_items": null,
            "left": null,
            "margin": null,
            "max_height": null,
            "max_width": null,
            "min_height": null,
            "min_width": null,
            "object_fit": null,
            "object_position": null,
            "order": null,
            "overflow": null,
            "overflow_x": null,
            "overflow_y": null,
            "padding": null,
            "right": null,
            "top": null,
            "visibility": null,
            "width": null
          }
        },
        "feeba7b3126641e497b9ddc68357130b": {
          "model_module": "@jupyter-widgets/controls",
          "model_name": "DescriptionStyleModel",
          "model_module_version": "1.5.0",
          "state": {
            "_model_module": "@jupyter-widgets/controls",
            "_model_module_version": "1.5.0",
            "_model_name": "DescriptionStyleModel",
            "_view_count": null,
            "_view_module": "@jupyter-widgets/base",
            "_view_module_version": "1.2.0",
            "_view_name": "StyleView",
            "description_width": ""
          }
        }
      }
    }
  },
  "cells": [
    {
      "cell_type": "markdown",
      "metadata": {
        "id": "view-in-github",
        "colab_type": "text"
      },
      "source": [
        "<a href=\"https://colab.research.google.com/github/ouma09/GenAi/blob/main/train_embeddinsg_matryoshka_768_64_NLI.ipynb\" target=\"_parent\"><img src=\"https://colab.research.google.com/assets/colab-badge.svg\" alt=\"Open In Colab\"/></a>"
      ]
    },
    {
      "cell_type": "markdown",
      "source": [
        "# Training a Matryoshka Embedding Model 🪆\n",
        "\n",
        "It uses `MultipleNegativesRankingLoss` with `MatryoshkaLoss` to train a strong embedding model at output dimensions `[768, 512, 256, 128, 64]` using Natural Language Inference datasets (`AllNLI` in this case).\n",
        "\n",
        "\n",
        "\n",
        "> Colab by: [mrm8488](https://twitter.com/mrm8488) adapted from [Sentence-Transformers](https://www.sbert.net/examples) script"
      ],
      "metadata": {
        "id": "bWHIevUQtPJq"
      }
    },
    {
      "cell_type": "code",
      "source": [
        "! nvidia-smi"
      ],
      "metadata": {
        "colab": {
          "base_uri": "https://localhost:8080/"
        },
        "id": "u3qEVtJU3Giq",
        "outputId": "5cdc92ba-0725-492b-eab0-0d7ed2965dfb"
      },
      "execution_count": null,
      "outputs": [
        {
          "output_type": "stream",
          "name": "stdout",
          "text": [
            "Sun Jun  2 12:19:46 2024       \n",
            "+---------------------------------------------------------------------------------------+\n",
            "| NVIDIA-SMI 535.104.05             Driver Version: 535.104.05   CUDA Version: 12.2     |\n",
            "|-----------------------------------------+----------------------+----------------------+\n",
            "| GPU  Name                 Persistence-M | Bus-Id        Disp.A | Volatile Uncorr. ECC |\n",
            "| Fan  Temp   Perf          Pwr:Usage/Cap |         Memory-Usage | GPU-Util  Compute M. |\n",
            "|                                         |                      |               MIG M. |\n",
            "|=========================================+======================+======================|\n",
            "|   0  Tesla T4                       Off | 00000000:00:04.0 Off |                    0 |\n",
            "| N/A   51C    P8              10W /  70W |      0MiB / 15360MiB |      0%      Default |\n",
            "|                                         |                      |                  N/A |\n",
            "+-----------------------------------------+----------------------+----------------------+\n",
            "                                                                                         \n",
            "+---------------------------------------------------------------------------------------+\n",
            "| Processes:                                                                            |\n",
            "|  GPU   GI   CI        PID   Type   Process name                            GPU Memory |\n",
            "|        ID   ID                                                             Usage      |\n",
            "|=======================================================================================|\n",
            "|  No running processes found                                                           |\n",
            "+---------------------------------------------------------------------------------------+\n"
          ]
        }
      ]
    },
    {
      "cell_type": "markdown",
      "source": [
        "### Install required dependencies 📦"
      ],
      "metadata": {
        "id": "w-x_uWTkvAaY"
      }
    },
    {
      "cell_type": "code",
      "source": [
        "! pip install -q sentence-transformers datasets \"accelerate>=0.21.0\" wandb"
      ],
      "metadata": {
        "id": "vRPJ1NXFpwyy"
      },
      "execution_count": null,
      "outputs": []
    },
    {
      "cell_type": "markdown",
      "source": [
        "### Imports"
      ],
      "metadata": {
        "id": "5CPDlSFKvEJ2"
      }
    },
    {
      "cell_type": "code",
      "source": [
        "from datasets import load_dataset\n",
        "from sentence_transformers import (\n",
        "    SentenceTransformer,\n",
        "    SentenceTransformerTrainer,\n",
        "    SentenceTransformerTrainingArguments,\n",
        "    losses,\n",
        ")\n",
        "from sentence_transformers.evaluation import EmbeddingSimilarityEvaluator, SequentialEvaluator, SimilarityFunction\n",
        "from sentence_transformers.training_args import BatchSamplers"
      ],
      "metadata": {
        "id": "WX_AHfKXpsu-"
      },
      "execution_count": null,
      "outputs": []
    },
    {
      "cell_type": "markdown",
      "source": [
        "### Set main variables ⚙️"
      ],
      "metadata": {
        "id": "F8Wgqes3vKHR"
      }
    },
    {
      "cell_type": "code",
      "source": [
        "model_name = \"distilroberta-base\" # Choose the model you want\n",
        "batch_size = 128  # The larger you select this, the better the results (usually). But it requires more GPU memory\n",
        "num_train_epochs = 1\n",
        "matryoshka_dims = [768, 512, 256, 128, 64]"
      ],
      "metadata": {
        "id": "HGpc0I-lp-EH"
      },
      "execution_count": null,
      "outputs": []
    },
    {
      "cell_type": "code",
      "source": [
        "# Save path of the model\n",
        "output_dir = f\"output/matryoshka_nli_{model_name.replace('/', '-')}_{batch_size}_bs_{num_train_epochs}_e\""
      ],
      "metadata": {
        "id": "MUi04dbdqHm-"
      },
      "execution_count": null,
      "outputs": []
    },
    {
      "cell_type": "code",
      "source": [
        "# 1. Here we define our SentenceTransformer model. If not already a Sentence Transformer model, it will automatically\n",
        "# create one with \"mean\" pooling.\n",
        "model = SentenceTransformer(model_name)\n",
        "# If we want, we can limit the maximum sequence length for the model\n",
        "# model.max_seq_length = 75"
      ],
      "metadata": {
        "colab": {
          "base_uri": "https://localhost:8080/"
        },
        "id": "Avbwm3kjqVj2",
        "outputId": "3a465267-14a2-4e22-99a2-32f0058c64bc"
      },
      "execution_count": null,
      "outputs": [
        {
          "output_type": "stream",
          "name": "stderr",
          "text": [
            "WARNING:sentence_transformers.SentenceTransformer:No sentence-transformers model found with name distilroberta-base. Creating a new one with mean pooling.\n",
            "/usr/local/lib/python3.10/dist-packages/huggingface_hub/file_download.py:1132: FutureWarning: `resume_download` is deprecated and will be removed in version 1.0.0. Downloads always resume when possible. If you want to force a new download, use `force_download=True`.\n",
            "  warnings.warn(\n"
          ]
        }
      ]
    },
    {
      "cell_type": "markdown",
      "source": [
        "### Load the Dataset 📚"
      ],
      "metadata": {
        "id": "z8gnaw18vUuv"
      }
    },
    {
      "cell_type": "code",
      "source": [
        "# 2. Load the AllNLI dataset: https://huggingface.co/datasets/sentence-transformers/all-nli\n",
        "train_dataset = load_dataset(\"sentence-transformers/all-nli\", \"triplet\", split=\"train\")\n",
        "eval_dataset = load_dataset(\"sentence-transformers/all-nli\", \"triplet\", split=\"dev\")"
      ],
      "metadata": {
        "id": "ouCtUJScqgfG"
      },
      "execution_count": null,
      "outputs": []
    },
    {
      "cell_type": "code",
      "source": [
        "train_dataset, train_dataset[0]"
      ],
      "metadata": {
        "colab": {
          "base_uri": "https://localhost:8080/"
        },
        "id": "2EN4iaPlqmMS",
        "outputId": "9ba9d3da-7af7-4e97-c82c-02bfebd5f154"
      },
      "execution_count": null,
      "outputs": [
        {
          "output_type": "execute_result",
          "data": {
            "text/plain": [
              "(Dataset({\n",
              "     features: ['anchor', 'positive', 'negative'],\n",
              "     num_rows: 557850\n",
              " }),\n",
              " {'anchor': 'A person on a horse jumps over a broken down airplane.',\n",
              "  'positive': 'A person is outdoors, on a horse.',\n",
              "  'negative': 'A person is at a diner, ordering an omelette.'})"
            ]
          },
          "metadata": {},
          "execution_count": 8
        }
      ]
    },
    {
      "cell_type": "markdown",
      "source": [
        "#### (Optional) Training on the entire dataset can take a long time, so for demonstration purposes, let's use only a small portion.\n",
        "\n"
      ],
      "metadata": {
        "id": "69WZXfwV14Vq"
      }
    },
    {
      "cell_type": "code",
      "source": [
        "MAX_EXAMPLES = 10000\n",
        "train_dataset = train_dataset.shuffle(seed=21).select(range(MAX_EXAMPLES))"
      ],
      "metadata": {
        "id": "TskdcO-52BeB"
      },
      "execution_count": null,
      "outputs": []
    },
    {
      "cell_type": "markdown",
      "source": [
        "### Define our training loss functions 📉"
      ],
      "metadata": {
        "id": "HXZd1esJvXuG"
      }
    },
    {
      "cell_type": "code",
      "source": [
        "inner_train_loss = losses.MultipleNegativesRankingLoss(model)\n",
        "train_loss = losses.MatryoshkaLoss(model, inner_train_loss, matryoshka_dims=matryoshka_dims)"
      ],
      "metadata": {
        "id": "jR_6eD4BqkWb"
      },
      "execution_count": null,
      "outputs": []
    },
    {
      "cell_type": "markdown",
      "source": [
        "### Set an evaluator to keep track of alongside the evaluation loss."
      ],
      "metadata": {
        "id": "70JMPUNOvfMb"
      }
    },
    {
      "cell_type": "code",
      "source": [
        "stsb_eval_dataset = load_dataset(\"sentence-transformers/stsb\", split=\"validation\")\n",
        "evaluators = []\n",
        "for dim in matryoshka_dims:\n",
        "    evaluators.append(\n",
        "        EmbeddingSimilarityEvaluator(\n",
        "            sentences1=stsb_eval_dataset[\"sentence1\"],\n",
        "            sentences2=stsb_eval_dataset[\"sentence2\"],\n",
        "            scores=stsb_eval_dataset[\"score\"],\n",
        "            main_similarity=SimilarityFunction.COSINE,\n",
        "            name=f\"sts-dev-{dim}\",\n",
        "            truncate_dim=dim,\n",
        "        )\n",
        "    )"
      ],
      "metadata": {
        "id": "phjDZeFlqtRO"
      },
      "execution_count": null,
      "outputs": []
    },
    {
      "cell_type": "code",
      "source": [
        "dev_evaluator = SequentialEvaluator(evaluators, main_score_function=lambda scores: scores[0])"
      ],
      "metadata": {
        "id": "m4P8uA8QqvWg"
      },
      "execution_count": null,
      "outputs": []
    },
    {
      "cell_type": "markdown",
      "source": [
        "### Define the training args ⚙️"
      ],
      "metadata": {
        "id": "0u-Twewgv-ME"
      }
    },
    {
      "cell_type": "code",
      "source": [
        "args = SentenceTransformerTrainingArguments(\n",
        "    # Required parameter:\n",
        "    output_dir=output_dir,\n",
        "    # Optional training parameters:\n",
        "    num_train_epochs=num_train_epochs,\n",
        "    per_device_train_batch_size=batch_size,\n",
        "    per_device_eval_batch_size=batch_size,\n",
        "    warmup_ratio=0.1,\n",
        "    fp16=True,  # Set to False if you get an error that your GPU can't run on FP16\n",
        "    bf16=False,  # Set to True if you have a GPU that supports BF16\n",
        "    batch_sampler=BatchSamplers.NO_DUPLICATES,  # MultipleNegativesRankingLoss benefits from no duplicate samples in a batch\n",
        "    # Optional tracking/debugging parameters:\n",
        "    eval_strategy=\"steps\",\n",
        "    eval_steps=30,\n",
        "    save_strategy=\"steps\",\n",
        "    save_steps=30,\n",
        "    save_total_limit=2,\n",
        "    logging_steps=30,\n",
        "    run_name=\"matryoshka-nli_128_bs_1e\",  # Will be used in W&B if `wandb` is installed\n",
        ")"
      ],
      "metadata": {
        "id": "IoP8Dt3qqzLw"
      },
      "execution_count": null,
      "outputs": []
    },
    {
      "cell_type": "markdown",
      "source": [
        "### Create the Trainer and run it 🏋️‍♀️"
      ],
      "metadata": {
        "id": "QECkTAp6wEcR"
      }
    },
    {
      "cell_type": "code",
      "source": [
        "trainer = SentenceTransformerTrainer(\n",
        "    model=model,\n",
        "    args=args,\n",
        "    train_dataset=train_dataset,\n",
        "    eval_dataset=eval_dataset,\n",
        "    loss=train_loss,\n",
        "    evaluator=dev_evaluator,\n",
        ")"
      ],
      "metadata": {
        "id": "IpVdMwaKq8qK"
      },
      "execution_count": null,
      "outputs": []
    },
    {
      "cell_type": "code",
      "source": [
        "trainer.train()"
      ],
      "metadata": {
        "colab": {
          "base_uri": "https://localhost:8080/",
          "height": 384,
          "referenced_widgets": [
            "0cafae5519e74c74aa01f5744ff0aa06",
            "728463bb7d72414884248e66f03ceaf9",
            "b14a64b1d2304a83a9ef53cc097ce214",
            "4a902f67e9e147c3b5c4c70ed7318332",
            "5bf5a41a6f2b4297a502728206632225",
            "fd74b958338549d89daa151de4e475b3",
            "ae65833476e04e1cbf0297879097e2d0",
            "c74ca19367ea4abca70390a285abdf33",
            "191c420aba5d49748be46162ccd86682",
            "e6a5fde63fde4627b9fd49ff5dc6818b",
            "f85b80f91f9943318bf1681e5dcb52c3",
            "3caddce3298a48a5a7318a35f73d09a9",
            "0f25eeca64ba47259b32de1d03d6324e",
            "ef1beb9bb7a94be9adb5c7f7ce5f2bd1",
            "6732cf389efe43ed8570cbac94caa47a",
            "883e9287c9f14392935412d839db98e6",
            "a30af5d821c04c3f8635dc9bf3e68019",
            "162a20f7199443cf836ca64916c92763",
            "4c0ac766f88b4f85b8ef19fa279e7165",
            "12f0eb4a3e7243bc8f858e44f947a548",
            "cf07ad8c88394b5ca1931876230ac9cc",
            "d9af64cfc0d440cd99807cad197751e0"
          ]
        },
        "id": "G_Q066Qpq_QG",
        "outputId": "4d260815-3730-418b-a280-91d7bfc82254"
      },
      "execution_count": null,
      "outputs": [
        {
          "output_type": "stream",
          "name": "stderr",
          "text": [
            "\u001b[34m\u001b[1mwandb\u001b[0m: Currently logged in as: \u001b[33mmrm8488\u001b[0m. Use \u001b[1m`wandb login --relogin`\u001b[0m to force relogin\n"
          ]
        },
        {
          "output_type": "display_data",
          "data": {
            "text/plain": [
              "<IPython.core.display.HTML object>"
            ],
            "text/html": [
              "Tracking run with wandb version 0.17.0"
            ]
          },
          "metadata": {}
        },
        {
          "output_type": "display_data",
          "data": {
            "text/plain": [
              "<IPython.core.display.HTML object>"
            ],
            "text/html": [
              "Run data is saved locally in <code>/content/wandb/run-20240602_122024-o0fke55t</code>"
            ]
          },
          "metadata": {}
        },
        {
          "output_type": "display_data",
          "data": {
            "text/plain": [
              "<IPython.core.display.HTML object>"
            ],
            "text/html": [
              "Syncing run <strong><a href='https://wandb.ai/mrm8488/sentence-transformers/runs/o0fke55t' target=\"_blank\">matryoshka-nli_128_bs_1e</a></strong> to <a href='https://wandb.ai/mrm8488/sentence-transformers' target=\"_blank\">Weights & Biases</a> (<a href='https://wandb.me/run' target=\"_blank\">docs</a>)<br/>"
            ]
          },
          "metadata": {}
        },
        {
          "output_type": "display_data",
          "data": {
            "text/plain": [
              "<IPython.core.display.HTML object>"
            ],
            "text/html": [
              " View project at <a href='https://wandb.ai/mrm8488/sentence-transformers' target=\"_blank\">https://wandb.ai/mrm8488/sentence-transformers</a>"
            ]
          },
          "metadata": {}
        },
        {
          "output_type": "display_data",
          "data": {
            "text/plain": [
              "<IPython.core.display.HTML object>"
            ],
            "text/html": [
              " View run at <a href='https://wandb.ai/mrm8488/sentence-transformers/runs/o0fke55t' target=\"_blank\">https://wandb.ai/mrm8488/sentence-transformers/runs/o0fke55t</a>"
            ]
          },
          "metadata": {}
        },
        {
          "output_type": "display_data",
          "data": {
            "text/plain": [
              "<IPython.core.display.HTML object>"
            ],
            "text/html": [
              "\n",
              "    <div>\n",
              "      \n",
              "      <progress value='79' max='79' style='width:300px; height:20px; vertical-align: middle;'></progress>\n",
              "      [79/79 01:25, Epoch 1/1]\n",
              "    </div>\n",
              "    <table border=\"1\" class=\"dataframe\">\n",
              "  <thead>\n",
              " <tr style=\"text-align: left;\">\n",
              "      <th>Step</th>\n",
              "      <th>Training Loss</th>\n",
              "      <th>Validation Loss</th>\n",
              "      <th>Sts-dev-768 Pearson Cosine</th>\n",
              "      <th>Sts-dev-768 Spearman Cosine</th>\n",
              "      <th>Sts-dev-768 Pearson Manhattan</th>\n",
              "      <th>Sts-dev-768 Spearman Manhattan</th>\n",
              "      <th>Sts-dev-768 Pearson Euclidean</th>\n",
              "      <th>Sts-dev-768 Spearman Euclidean</th>\n",
              "      <th>Sts-dev-768 Pearson Dot</th>\n",
              "      <th>Sts-dev-768 Spearman Dot</th>\n",
              "      <th>Sts-dev-768 Pearson Max</th>\n",
              "      <th>Sts-dev-768 Spearman Max</th>\n",
              "      <th>Sts-dev-512 Pearson Cosine</th>\n",
              "      <th>Sts-dev-512 Spearman Cosine</th>\n",
              "      <th>Sts-dev-512 Pearson Manhattan</th>\n",
              "      <th>Sts-dev-512 Spearman Manhattan</th>\n",
              "      <th>Sts-dev-512 Pearson Euclidean</th>\n",
              "      <th>Sts-dev-512 Spearman Euclidean</th>\n",
              "      <th>Sts-dev-512 Pearson Dot</th>\n",
              "      <th>Sts-dev-512 Spearman Dot</th>\n",
              "      <th>Sts-dev-512 Pearson Max</th>\n",
              "      <th>Sts-dev-512 Spearman Max</th>\n",
              "      <th>Sts-dev-256 Pearson Cosine</th>\n",
              "      <th>Sts-dev-256 Spearman Cosine</th>\n",
              "      <th>Sts-dev-256 Pearson Manhattan</th>\n",
              "      <th>Sts-dev-256 Spearman Manhattan</th>\n",
              "      <th>Sts-dev-256 Pearson Euclidean</th>\n",
              "      <th>Sts-dev-256 Spearman Euclidean</th>\n",
              "      <th>Sts-dev-256 Pearson Dot</th>\n",
              "      <th>Sts-dev-256 Spearman Dot</th>\n",
              "      <th>Sts-dev-256 Pearson Max</th>\n",
              "      <th>Sts-dev-256 Spearman Max</th>\n",
              "      <th>Sts-dev-128 Pearson Cosine</th>\n",
              "      <th>Sts-dev-128 Spearman Cosine</th>\n",
              "      <th>Sts-dev-128 Pearson Manhattan</th>\n",
              "      <th>Sts-dev-128 Spearman Manhattan</th>\n",
              "      <th>Sts-dev-128 Pearson Euclidean</th>\n",
              "      <th>Sts-dev-128 Spearman Euclidean</th>\n",
              "      <th>Sts-dev-128 Pearson Dot</th>\n",
              "      <th>Sts-dev-128 Spearman Dot</th>\n",
              "      <th>Sts-dev-128 Pearson Max</th>\n",
              "      <th>Sts-dev-128 Spearman Max</th>\n",
              "      <th>Sts-dev-64 Pearson Cosine</th>\n",
              "      <th>Sts-dev-64 Spearman Cosine</th>\n",
              "      <th>Sts-dev-64 Pearson Manhattan</th>\n",
              "      <th>Sts-dev-64 Spearman Manhattan</th>\n",
              "      <th>Sts-dev-64 Pearson Euclidean</th>\n",
              "      <th>Sts-dev-64 Spearman Euclidean</th>\n",
              "      <th>Sts-dev-64 Pearson Dot</th>\n",
              "      <th>Sts-dev-64 Spearman Dot</th>\n",
              "      <th>Sts-dev-64 Pearson Max</th>\n",
              "      <th>Sts-dev-64 Spearman Max</th>\n",
              "      <th>Sequential Score</th>\n",
              "    </tr>\n",
              "  </thead>\n",
              "  <tbody>\n",
              "    <tr>\n",
              "      <td>30</td>\n",
              "      <td>15.887500</td>\n",
              "      <td>6.108927</td>\n",
              "      <td>0.799079</td>\n",
              "      <td>0.807643</td>\n",
              "      <td>0.798068</td>\n",
              "      <td>0.797434</td>\n",
              "      <td>0.799267</td>\n",
              "      <td>0.798510</td>\n",
              "      <td>0.568376</td>\n",
              "      <td>0.585174</td>\n",
              "      <td>0.799267</td>\n",
              "      <td>0.807643</td>\n",
              "      <td>0.809987</td>\n",
              "      <td>0.814291</td>\n",
              "      <td>0.798350</td>\n",
              "      <td>0.797495</td>\n",
              "      <td>0.800138</td>\n",
              "      <td>0.798993</td>\n",
              "      <td>0.653782</td>\n",
              "      <td>0.667895</td>\n",
              "      <td>0.809987</td>\n",
              "      <td>0.814291</td>\n",
              "      <td>0.806137</td>\n",
              "      <td>0.812251</td>\n",
              "      <td>0.795960</td>\n",
              "      <td>0.795933</td>\n",
              "      <td>0.797646</td>\n",
              "      <td>0.797016</td>\n",
              "      <td>0.644407</td>\n",
              "      <td>0.663930</td>\n",
              "      <td>0.806137</td>\n",
              "      <td>0.812251</td>\n",
              "      <td>0.791715</td>\n",
              "      <td>0.803576</td>\n",
              "      <td>0.790396</td>\n",
              "      <td>0.791495</td>\n",
              "      <td>0.789726</td>\n",
              "      <td>0.790735</td>\n",
              "      <td>0.614015</td>\n",
              "      <td>0.629194</td>\n",
              "      <td>0.791715</td>\n",
              "      <td>0.803576</td>\n",
              "      <td>0.785613</td>\n",
              "      <td>0.801044</td>\n",
              "      <td>0.779370</td>\n",
              "      <td>0.783728</td>\n",
              "      <td>0.778577</td>\n",
              "      <td>0.783513</td>\n",
              "      <td>0.586909</td>\n",
              "      <td>0.607534</td>\n",
              "      <td>0.785613</td>\n",
              "      <td>0.801044</td>\n",
              "      <td>0.799079</td>\n",
              "    </tr>\n",
              "    <tr>\n",
              "      <td>60</td>\n",
              "      <td>7.487400</td>\n",
              "      <td>5.018856</td>\n",
              "      <td>0.817021</td>\n",
              "      <td>0.825594</td>\n",
              "      <td>0.808521</td>\n",
              "      <td>0.809334</td>\n",
              "      <td>0.809014</td>\n",
              "      <td>0.809879</td>\n",
              "      <td>0.578794</td>\n",
              "      <td>0.605063</td>\n",
              "      <td>0.817021</td>\n",
              "      <td>0.825594</td>\n",
              "      <td>0.821716</td>\n",
              "      <td>0.827730</td>\n",
              "      <td>0.808582</td>\n",
              "      <td>0.809043</td>\n",
              "      <td>0.809644</td>\n",
              "      <td>0.809735</td>\n",
              "      <td>0.636027</td>\n",
              "      <td>0.659483</td>\n",
              "      <td>0.821716</td>\n",
              "      <td>0.827730</td>\n",
              "      <td>0.817895</td>\n",
              "      <td>0.825711</td>\n",
              "      <td>0.807215</td>\n",
              "      <td>0.808102</td>\n",
              "      <td>0.807561</td>\n",
              "      <td>0.808229</td>\n",
              "      <td>0.631600</td>\n",
              "      <td>0.653106</td>\n",
              "      <td>0.817895</td>\n",
              "      <td>0.825711</td>\n",
              "      <td>0.808366</td>\n",
              "      <td>0.819529</td>\n",
              "      <td>0.801710</td>\n",
              "      <td>0.804404</td>\n",
              "      <td>0.800453</td>\n",
              "      <td>0.803275</td>\n",
              "      <td>0.605499</td>\n",
              "      <td>0.632400</td>\n",
              "      <td>0.808366</td>\n",
              "      <td>0.819529</td>\n",
              "      <td>0.796901</td>\n",
              "      <td>0.813815</td>\n",
              "      <td>0.790738</td>\n",
              "      <td>0.795324</td>\n",
              "      <td>0.788661</td>\n",
              "      <td>0.793537</td>\n",
              "      <td>0.536989</td>\n",
              "      <td>0.552890</td>\n",
              "      <td>0.796901</td>\n",
              "      <td>0.813815</td>\n",
              "      <td>0.817021</td>\n",
              "    </tr>\n",
              "  </tbody>\n",
              "</table><p>"
            ]
          },
          "metadata": {}
        },
        {
          "output_type": "display_data",
          "data": {
            "text/plain": [
              "Computing widget examples:   0%|          | 0/5 [00:00<?, ?example/s]"
            ],
            "application/vnd.jupyter.widget-view+json": {
              "version_major": 2,
              "version_minor": 0,
              "model_id": "0cafae5519e74c74aa01f5744ff0aa06"
            }
          },
          "metadata": {}
        },
        {
          "output_type": "display_data",
          "data": {
            "text/plain": [
              "Computing widget examples:   0%|          | 0/5 [00:00<?, ?example/s]"
            ],
            "application/vnd.jupyter.widget-view+json": {
              "version_major": 2,
              "version_minor": 0,
              "model_id": "3caddce3298a48a5a7318a35f73d09a9"
            }
          },
          "metadata": {}
        },
        {
          "output_type": "execute_result",
          "data": {
            "text/plain": [
              "TrainOutput(global_step=79, training_loss=10.388897183575208, metrics={'train_runtime': 93.2846, 'train_samples_per_second': 107.199, 'train_steps_per_second': 0.847, 'total_flos': 0.0, 'train_loss': 10.388897183575208, 'epoch': 1.0})"
            ]
          },
          "metadata": {},
          "execution_count": 15
        }
      ]
    },
    {
      "cell_type": "markdown",
      "source": [
        "### Evaluate on the STS Benchmark test dataset 🧪"
      ],
      "metadata": {
        "id": "Tnd8jZANwNVl"
      }
    },
    {
      "cell_type": "code",
      "source": [
        "test_dataset = load_dataset(\"sentence-transformers/stsb\", split=\"test\")\n",
        "evaluators = []\n",
        "for dim in matryoshka_dims:\n",
        "    evaluators.append(\n",
        "        EmbeddingSimilarityEvaluator(\n",
        "            sentences1=test_dataset[\"sentence1\"],\n",
        "            sentences2=test_dataset[\"sentence2\"],\n",
        "            scores=test_dataset[\"score\"],\n",
        "            main_similarity=SimilarityFunction.COSINE,\n",
        "            name=f\"sts-test-{dim}\",\n",
        "            truncate_dim=dim,\n",
        "        )\n",
        "    )"
      ],
      "metadata": {
        "id": "kTa60iIorAMA"
      },
      "execution_count": null,
      "outputs": []
    },
    {
      "cell_type": "code",
      "source": [
        "test_evaluator = SequentialEvaluator(evaluators)"
      ],
      "metadata": {
        "id": "07AZNpoSrO_v"
      },
      "execution_count": null,
      "outputs": []
    },
    {
      "cell_type": "code",
      "source": [
        "test_evaluator(model)"
      ],
      "metadata": {
        "colab": {
          "base_uri": "https://localhost:8080/"
        },
        "id": "aU4zrMU7rQcH",
        "outputId": "2c8c4506-5bd4-439c-ebb0-daf26f9a621a"
      },
      "execution_count": null,
      "outputs": [
        {
          "output_type": "execute_result",
          "data": {
            "text/plain": [
              "{'sts-test-768_pearson_cosine': 0.7830238745430493,\n",
              " 'sts-test-768_spearman_cosine': 0.7773358019943875,\n",
              " 'sts-test-768_pearson_manhattan': 0.7760333176930047,\n",
              " 'sts-test-768_spearman_manhattan': 0.7571481372933749,\n",
              " 'sts-test-768_pearson_euclidean': 0.776789479061736,\n",
              " 'sts-test-768_spearman_euclidean': 0.7576814286884955,\n",
              " 'sts-test-768_pearson_dot': 0.5696962552851287,\n",
              " 'sts-test-768_spearman_dot': 0.5537713996518868,\n",
              " 'sts-test-768_pearson_max': 0.7830238745430493,\n",
              " 'sts-test-768_spearman_max': 0.7773358019943875,\n",
              " 'sts-test-512_pearson_cosine': 0.7907935653551746,\n",
              " 'sts-test-512_spearman_cosine': 0.7782713191251893,\n",
              " 'sts-test-512_pearson_manhattan': 0.7764478901183614,\n",
              " 'sts-test-512_spearman_manhattan': 0.7566433974497622,\n",
              " 'sts-test-512_pearson_euclidean': 0.7782923050865409,\n",
              " 'sts-test-512_spearman_euclidean': 0.7586940810248578,\n",
              " 'sts-test-512_pearson_dot': 0.6258176622518048,\n",
              " 'sts-test-512_spearman_dot': 0.6181814350373276,\n",
              " 'sts-test-512_pearson_max': 0.7907935653551746,\n",
              " 'sts-test-512_spearman_max': 0.7782713191251893,\n",
              " 'sts-test-256_pearson_cosine': 0.7908067539669299,\n",
              " 'sts-test-256_spearman_cosine': 0.7795025085736664,\n",
              " 'sts-test-256_pearson_manhattan': 0.7755431776792971,\n",
              " 'sts-test-256_spearman_manhattan': 0.7562690454681379,\n",
              " 'sts-test-256_pearson_euclidean': 0.7781346419376611,\n",
              " 'sts-test-256_spearman_euclidean': 0.758814222490032,\n",
              " 'sts-test-256_pearson_dot': 0.6154265187350948,\n",
              " 'sts-test-256_spearman_dot': 0.6087153655842568,\n",
              " 'sts-test-256_pearson_max': 0.7908067539669299,\n",
              " 'sts-test-256_spearman_max': 0.7795025085736664,\n",
              " 'sts-test-128_pearson_cosine': 0.7834891434344285,\n",
              " 'sts-test-128_spearman_cosine': 0.7741680712927299,\n",
              " 'sts-test-128_pearson_manhattan': 0.7698768862442725,\n",
              " 'sts-test-128_spearman_manhattan': 0.7516992990950883,\n",
              " 'sts-test-128_pearson_euclidean': 0.7725179170590802,\n",
              " 'sts-test-128_spearman_euclidean': 0.7540760668612254,\n",
              " 'sts-test-128_pearson_dot': 0.5993495779007535,\n",
              " 'sts-test-128_spearman_dot': 0.5948823443472567,\n",
              " 'sts-test-128_pearson_max': 0.7834891434344285,\n",
              " 'sts-test-128_spearman_max': 0.7741680712927299,\n",
              " 'sts-test-64_pearson_cosine': 0.7697909709279078,\n",
              " 'sts-test-64_spearman_cosine': 0.7694157521335179,\n",
              " 'sts-test-64_pearson_manhattan': 0.7566785379332931,\n",
              " 'sts-test-64_spearman_manhattan': 0.7416514872094313,\n",
              " 'sts-test-64_pearson_euclidean': 0.7597412434782689,\n",
              " 'sts-test-64_spearman_euclidean': 0.7445304750256434,\n",
              " 'sts-test-64_pearson_dot': 0.5373915986497828,\n",
              " 'sts-test-64_spearman_dot': 0.5337836276254458,\n",
              " 'sts-test-64_pearson_max': 0.7697909709279078,\n",
              " 'sts-test-64_spearman_max': 0.7694157521335179,\n",
              " 'sequential_score': 0.7697909709279078}"
            ]
          },
          "metadata": {},
          "execution_count": 18
        }
      ]
    },
    {
      "cell_type": "markdown",
      "source": [
        "### Save the model locally"
      ],
      "metadata": {
        "id": "rhuIw7orwgHW"
      }
    },
    {
      "cell_type": "code",
      "source": [
        "final_output_dir = f\"{output_dir}/final\"\n",
        "model.save(final_output_dir)"
      ],
      "metadata": {
        "colab": {
          "base_uri": "https://localhost:8080/",
          "height": 17,
          "referenced_widgets": [
            "3dccd93f63604cb4be42222e1226641c",
            "0857cd6048d741f5924fb2c41d5fb1e4",
            "55df9fde1a044ee8823f50333d10d8f8",
            "2b67d1fa92b3462f985911f2b17f7801",
            "85bc4e9922364a1eb3b9e0e995af7669",
            "a541bd2aff3a42c09d70a63bdebd3a58",
            "1a0f99d9b14c405c9f30f6b8ec01ded5",
            "4b9a02f28cb0448486bb4fb1bd31552d",
            "dd3569779cf54ec683cd93ab99fb4ea5",
            "a7b90c33c9c340a7be0a750e950f6549",
            "feeba7b3126641e497b9ddc68357130b"
          ]
        },
        "id": "fvGlmdbzrNt8",
        "outputId": "47e3bbde-253d-4d5f-b567-a36266261f48"
      },
      "execution_count": null,
      "outputs": [
        {
          "output_type": "display_data",
          "data": {
            "text/plain": [
              "Computing widget examples:   0%|          | 0/5 [00:00<?, ?example/s]"
            ],
            "application/vnd.jupyter.widget-view+json": {
              "version_major": 2,
              "version_minor": 0,
              "model_id": "3dccd93f63604cb4be42222e1226641c"
            }
          },
          "metadata": {}
        }
      ]
    },
    {
      "cell_type": "markdown",
      "source": [
        "### Push to the Hugging Face Hub 🤗\n",
        "You may need an token. Get it here: https://huggingface.co/settings/tokens"
      ],
      "metadata": {
        "id": "olKCLoi8wlN9"
      }
    },
    {
      "cell_type": "code",
      "source": [
        "model.push_to_hub(f\"{model_name}-nli-matryoshka\", token=\"<your_token>\")"
      ],
      "metadata": {
        "id": "rOi6WTf7rUC_"
      },
      "execution_count": null,
      "outputs": []
    }
  ]
}